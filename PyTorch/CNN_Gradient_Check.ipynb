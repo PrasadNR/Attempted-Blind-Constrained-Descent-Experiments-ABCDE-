{
 "cells": [
  {
   "cell_type": "markdown",
   "metadata": {
    "id": "UgEc9RYwdNyS"
   },
   "source": [
    "## Import all the necessary libraries"
   ]
  },
  {
   "cell_type": "markdown",
   "metadata": {
    "id": "UcVJ89lWfBqk"
   },
   "source": [
    "Source: https://github.com/akshat57/Blind-Descent/blob/main/Blind_Descent-1-CNN.ipynb"
   ]
  },
  {
   "cell_type": "code",
   "execution_count": 19,
   "metadata": {
    "executionInfo": {
     "elapsed": 394,
     "status": "ok",
     "timestamp": 1611975282848,
     "user": {
      "displayName": "Prasad Narahari Raghavendra",
      "photoUrl": "",
      "userId": "13004936298388256166"
     },
     "user_tz": 300
    },
    "id": "T5oQ47tOdNyU"
   },
   "outputs": [],
   "source": [
    "import numpy as np\n",
    "import torch\n",
    "import sys\n",
    "import torch.nn as nn\n",
    "import torch.nn.functional as F\n",
    "import torch.optim as optim\n",
    "\n",
    "from torch.utils import data\n",
    "from torchvision import transforms\n",
    "from torchvision.datasets import MNIST\n",
    "from torchvision.datasets import CIFAR10\n",
    "\n",
    "import matplotlib.pyplot as plt\n",
    "import time\n",
    "\n",
    "from sklearn.metrics import confusion_matrix, classification_report\n",
    "\n",
    "cuda = torch.cuda.is_available()\n",
    "cuda = False"
   ]
  },
  {
   "cell_type": "markdown",
   "metadata": {
    "id": "F2ZlVqRvdNyV"
   },
   "source": [
    "## Download the MNIST and CIFAR10 datasets"
   ]
  },
  {
   "cell_type": "code",
   "execution_count": 20,
   "metadata": {
    "colab": {
     "base_uri": "https://localhost:8080/"
    },
    "executionInfo": {
     "elapsed": 2734,
     "status": "ok",
     "timestamp": 1611975285196,
     "user": {
      "displayName": "Prasad Narahari Raghavendra",
      "photoUrl": "",
      "userId": "13004936298388256166"
     },
     "user_tz": 300
    },
    "id": "snx5udk9dNyW",
    "outputId": "80f7f641-a9f0-4c8b-dc81-2d0d1c5296a9"
   },
   "outputs": [
    {
     "name": "stdout",
     "output_type": "stream",
     "text": [
      "Files already downloaded and verified\n",
      "Files already downloaded and verified\n",
      "\n",
      "MNIST is already an array\n",
      "torch.Size([60000, 28, 28]) torch.Size([60000]) torch.Size([10000, 28, 28]) torch.Size([10000])\n",
      "\n",
      "CIFAR10 is a list of arrays\n",
      "50000 50000 10000 10000\n",
      "(32, 32, 3) (32, 32, 3)\n"
     ]
    }
   ],
   "source": [
    "train = MNIST('./MNIST_data', train=True, download=True, transform=transforms.ToTensor())\n",
    "test = MNIST('./MNIST_data', train=False, download=True, transform=transforms.ToTensor())\n",
    "train_MNIST_data = train.data; train_MNIST_labels = train.targets\n",
    "test_MNIST_data = test.data; test_MNIST_labels = test.targets\n",
    "\n",
    "train = CIFAR10('./CIFAR10_data', train=True, download=True, transform=transforms.ToTensor())\n",
    "test = CIFAR10('./CIFAR10_data', train=False, download=True, transform=transforms.ToTensor())\n",
    "train_CIFAR10_data = train.data; train_CIFAR10_labels = train.targets\n",
    "test_CIFAR10_data = test.data; test_CIFAR10_labels = test.targets\n",
    "\n",
    "print()\n",
    "print(\"MNIST is already an array\")\n",
    "print(train_MNIST_data.shape, train_MNIST_labels.shape, test_MNIST_data.shape, test_MNIST_labels.shape)\n",
    "print()\n",
    "print(\"CIFAR10 is a list of arrays\")\n",
    "print(len(train_CIFAR10_data), len(train_CIFAR10_labels), len(test_CIFAR10_data), len(test_CIFAR10_labels))\n",
    "print(train_CIFAR10_data[0].shape, test_CIFAR10_data[0].shape)"
   ]
  },
  {
   "cell_type": "markdown",
   "metadata": {
    "id": "g3JjIF9UdNyW"
   },
   "source": [
    "## Dataloader"
   ]
  },
  {
   "cell_type": "code",
   "execution_count": 21,
   "metadata": {
    "executionInfo": {
     "elapsed": 2730,
     "status": "ok",
     "timestamp": 1611975285197,
     "user": {
      "displayName": "Prasad Narahari Raghavendra",
      "photoUrl": "",
      "userId": "13004936298388256166"
     },
     "user_tz": 300
    },
    "id": "2P-GNkhPdNyX"
   },
   "outputs": [],
   "source": [
    "class CIFAR10Dataset(data.Dataset):\n",
    "    def __init__(self, X, Y):\n",
    "        self.X = X\n",
    "        self.Y = Y\n",
    "\n",
    "    def __len__(self):\n",
    "        return len(self.Y)\n",
    "\n",
    "    def __getitem__(self,index):\n",
    "        X = np.transpose(self.X[index], (2, 0, 1)) / 255\n",
    "        X = X.astype(float)\n",
    "        Y = self.Y[index]\n",
    "        return X,Y\n",
    "\n",
    "class MNIST_Dataset(data.Dataset):\n",
    "    def __init__(self, X, Y):\n",
    "        self.X = X\n",
    "        self.Y = Y\n",
    "\n",
    "    def __len__(self):\n",
    "        return len(self.Y)\n",
    "\n",
    "    def __getitem__(self,index):\n",
    "        X = np.pad(self.X[index], 2) / 255\n",
    "        X = np.repeat(X[:, :, np.newaxis], 3, axis = 2)\n",
    "        X = np.transpose(X, (2, 0, 1))\n",
    "        X = X.astype(float)\n",
    "        Y = self.Y[index]\n",
    "        return X,Y"
   ]
  },
  {
   "cell_type": "markdown",
   "metadata": {
    "id": "fiFk7X_edNyZ"
   },
   "source": [
    "Using the torch.utils.data DataLoader, we shuffle the data and set the batch size"
   ]
  },
  {
   "cell_type": "code",
   "execution_count": 22,
   "metadata": {
    "executionInfo": {
     "elapsed": 2727,
     "status": "ok",
     "timestamp": 1611975285199,
     "user": {
      "displayName": "Prasad Narahari Raghavendra",
      "photoUrl": "",
      "userId": "13004936298388256166"
     },
     "user_tz": 300
    },
    "id": "R-RXL-JJdNyZ"
   },
   "outputs": [],
   "source": [
    "num_workers = 8 if cuda else 0 \n",
    "batch_size = 64\n",
    "    \n",
    "# MNIST Training\n",
    "train_dataset = MNIST_Dataset(train_MNIST_data, train_MNIST_labels)\n",
    "\n",
    "train_loader_args = dict(shuffle=True, batch_size=batch_size, num_workers=num_workers, pin_memory=True) if cuda\\\n",
    "                    else dict(shuffle=True, batch_size=batch_size)\n",
    "train_MNIST_loader = data.DataLoader(train_dataset, **train_loader_args)\n",
    "\n",
    "# MNIST Testing\n",
    "test_dataset = MNIST_Dataset(test_MNIST_data, test_MNIST_labels)\n",
    "\n",
    "test_loader_args = dict(shuffle=False, batch_size=batch_size, num_workers=num_workers, pin_memory=True) if cuda\\\n",
    "                    else dict(shuffle=False, batch_size=1)\n",
    "test_MNIST_loader = data.DataLoader(test_dataset, **test_loader_args)\n",
    "\n",
    "# CIFAR10 Training\n",
    "train_dataset = CIFAR10Dataset(train_CIFAR10_data, train_CIFAR10_labels)\n",
    "\n",
    "train_loader_args = dict(shuffle=True, batch_size=batch_size, num_workers=num_workers, pin_memory=True) if cuda\\\n",
    "                    else dict(shuffle=True, batch_size=batch_size)\n",
    "train_CIFAR10_loader = data.DataLoader(train_dataset, **train_loader_args)\n",
    "\n",
    "# CIFAR10 Testing\n",
    "test_dataset = CIFAR10Dataset(test_CIFAR10_data, test_CIFAR10_labels)\n",
    "\n",
    "test_loader_args = dict(shuffle=False, batch_size=batch_size, num_workers=num_workers, pin_memory=True) if cuda\\\n",
    "                    else dict(shuffle=False, batch_size=1)\n",
    "test_CIFAR10_loader = data.DataLoader(test_dataset, **test_loader_args)"
   ]
  },
  {
   "cell_type": "markdown",
   "metadata": {
    "id": "Tlhg9dfadNyZ"
   },
   "source": [
    "## Define our Neural Network Model \n",
    "We define our model using the torch.nn.Module class"
   ]
  },
  {
   "cell_type": "code",
   "execution_count": 23,
   "metadata": {
    "executionInfo": {
     "elapsed": 2725,
     "status": "ok",
     "timestamp": 1611975285201,
     "user": {
      "displayName": "Prasad Narahari Raghavendra",
      "photoUrl": "",
      "userId": "13004936298388256166"
     },
     "user_tz": 300
    },
    "id": "1rWxDIX7dNyZ"
   },
   "outputs": [],
   "source": [
    "class MyCNN_Model(nn.Module):\n",
    "    def __init__(self):\n",
    "        super(MyCNN_Model, self).__init__()\n",
    "        self.conv1 = nn.Conv2d(3, 32, kernel_size = 5)\n",
    "        self.pool1 = nn.MaxPool2d(kernel_size = 2)\n",
    "        self.conv2 = nn.Conv2d(32, 32, kernel_size = 5)\n",
    "        self.pool2 = nn.MaxPool2d(kernel_size = 2)\n",
    "        self.conv3 = nn.Conv2d(32, 10, kernel_size = 5)\n",
    "        \n",
    "    def forward(self, x):\n",
    "        x = self.conv1(x)\n",
    "        x = self.pool1(x)\n",
    "        x = F.relu(self.conv2(x))\n",
    "        x = self.pool2(x)\n",
    "        x = self.conv3(x)\n",
    "        x = x.view(-1, 10)\n",
    "        \n",
    "        return x"
   ]
  },
  {
   "cell_type": "markdown",
   "metadata": {
    "id": "NVzzuB_IdNya"
   },
   "source": [
    "## Create the model and define the Loss and Optimizer"
   ]
  },
  {
   "cell_type": "code",
   "execution_count": 24,
   "metadata": {
    "colab": {
     "base_uri": "https://localhost:8080/"
    },
    "executionInfo": {
     "elapsed": 2723,
     "status": "ok",
     "timestamp": 1611975285203,
     "user": {
      "displayName": "Prasad Narahari Raghavendra",
      "photoUrl": "",
      "userId": "13004936298388256166"
     },
     "user_tz": 300
    },
    "id": "SgGr79Z6dNyc",
    "outputId": "941f3979-56fc-4fe3-a915-7a7348500c5e"
   },
   "outputs": [
    {
     "name": "stdout",
     "output_type": "stream",
     "text": [
      "MyCNN_Model(\n",
      "  (conv1): Conv2d(3, 32, kernel_size=(5, 5), stride=(1, 1))\n",
      "  (pool1): MaxPool2d(kernel_size=2, stride=2, padding=0, dilation=1, ceil_mode=False)\n",
      "  (conv2): Conv2d(32, 32, kernel_size=(5, 5), stride=(1, 1))\n",
      "  (pool2): MaxPool2d(kernel_size=2, stride=2, padding=0, dilation=1, ceil_mode=False)\n",
      "  (conv3): Conv2d(32, 10, kernel_size=(5, 5), stride=(1, 1))\n",
      ")\n"
     ]
    }
   ],
   "source": [
    "criterion = nn.CrossEntropyLoss()\n",
    "device = torch.device(\"cuda\" if cuda else \"cpu\")\n",
    "model = MyCNN_Model()\n",
    "model.to(device)\n",
    "print(model)"
   ]
  },
  {
   "cell_type": "code",
   "execution_count": 25,
   "metadata": {
    "executionInfo": {
     "elapsed": 2881,
     "status": "ok",
     "timestamp": 1611975285367,
     "user": {
      "displayName": "Prasad Narahari Raghavendra",
      "photoUrl": "",
      "userId": "13004936298388256166"
     },
     "user_tz": 300
    },
    "id": "F5gYYVQidNyc"
   },
   "outputs": [],
   "source": [
    "def train_epoch(model, train_loader, criterion):\n",
    "    model.train()\n",
    "\n",
    "    running_loss = 0.0\n",
    "    predictions = []\n",
    "    ground_truth = []\n",
    "    loss_den = 1\n",
    "    \n",
    "    start_time = time.time()\n",
    "    for batch_idx, (data, target) in enumerate(train_loader):   \n",
    "        # lr = np.power(10, np.random.uniform(-6, 1))\n",
    "        lr = 0.001\n",
    "\n",
    "        data = data.to(device)\n",
    "        target = target.to(device)\n",
    "    \n",
    "        #previous model\n",
    "        outputs = model(data.float())\n",
    "        _, predicted = torch.max(outputs.data, 1)\n",
    "        total_predictions = target.size(0)\n",
    "        correct_predictions = (predicted == target).sum().item()\n",
    "        acc = (correct_predictions/total_predictions)*100.0\n",
    "        \n",
    "        loss = criterion(outputs, target)\n",
    "        loss.backward()\n",
    "\n",
    "        with torch.no_grad():\n",
    "            model.conv1.weight -= (lr * model.conv1.weight.grad).float()\n",
    "            model.conv2.weight -= (lr * model.conv2.weight.grad).float()\n",
    "            model.conv3.weight -= (lr * model.conv3.weight.grad).float()\n",
    "\n",
    "        outputs = model(data.float())\n",
    "        _, predicted = torch.max(outputs.data, 1)\n",
    "        total_predictions = target.size(0)\n",
    "        correct_predictions = (predicted == target).sum().item()\n",
    "        acc_new = (correct_predictions/total_predictions)*100.0\n",
    "        \n",
    "        loss_new = criterion(outputs, target)\n",
    "        loss_den += 1\n",
    "\n",
    "        #calculuating confusion matrix\n",
    "        predictions += list(predicted.detach().cpu().numpy())\n",
    "        ground_truth += list(target.detach().cpu().numpy())\n",
    "\n",
    "        '''\n",
    "        if loss_new.item() > loss.item():\n",
    "            model.conv1.weight += lr * model.conv1.weight.grad\n",
    "            model.conv2.weight += lr * model.conv2.weight.grad\n",
    "            model.conv3.weight += lr * model.conv3.weight.grad\n",
    "\n",
    "            running_loss += loss.item()\n",
    "        else:\n",
    "            running_loss += loss_new.item()\n",
    "        '''\n",
    "\n",
    "        model.conv1.weight.grad.zero_()\n",
    "        model.conv2.weight.grad.zero_()\n",
    "        model.conv3.weight.grad.zero_()\n",
    "        \n",
    "    end_time = time.time()\n",
    "\n",
    "    running_loss /= loss_den\n",
    "    \n",
    "    print('Training Loss: ', running_loss, 'Time: ',end_time - start_time, 's')\n",
    "    \n",
    "    return running_loss, model"
   ]
  },
  {
   "cell_type": "markdown",
   "metadata": {
    "id": "e5bSz-zcdNyd"
   },
   "source": [
    "## Create a function that will evaluate our network's performance on the test set"
   ]
  },
  {
   "cell_type": "code",
   "execution_count": 26,
   "metadata": {
    "executionInfo": {
     "elapsed": 2879,
     "status": "ok",
     "timestamp": 1611975285370,
     "user": {
      "displayName": "Prasad Narahari Raghavendra",
      "photoUrl": "",
      "userId": "13004936298388256166"
     },
     "user_tz": 300
    },
    "id": "rAhuZ7uMdNyd"
   },
   "outputs": [],
   "source": [
    "def test_model(model, test_loader, criterion):\n",
    "    with torch.no_grad():\n",
    "        model.eval()\n",
    "\n",
    "        running_loss = 0.0\n",
    "        total_predictions = 0.0\n",
    "        correct_predictions = 0.0\n",
    "        \n",
    "        predictions = []\n",
    "        ground_truth = []\n",
    "\n",
    "        for batch_idx, (data, target) in enumerate(test_loader):   \n",
    "            data = data.to(device)\n",
    "            target = target.to(device)\n",
    "\n",
    "            outputs = model(data.float())\n",
    "\n",
    "            _, predicted = torch.max(outputs.data, 1)\n",
    "            total_predictions += target.size(0)\n",
    "            correct_predictions += (predicted == target).sum().item()\n",
    "\n",
    "            loss = criterion(outputs, target).detach()\n",
    "            running_loss += loss.item()\n",
    "            \n",
    "            #calculuating confusion matrix\n",
    "            predictions += list(predicted.detach().cpu().numpy())\n",
    "            ground_truth += list(target.detach().cpu().numpy())\n",
    "        \n",
    "        #write_confusion_matrix('Testing', ground_truth, predictions)\n",
    "        running_loss /= len(test_loader)\n",
    "        acc = (correct_predictions/total_predictions)*100.0\n",
    "        print('Testing Loss: ', running_loss)\n",
    "        print('Testing Accuracy: ', acc, '%')\n",
    "        return running_loss, acc\n"
   ]
  },
  {
   "cell_type": "markdown",
   "metadata": {
    "id": "sF9evUwmdNye"
   },
   "source": [
    "## Train the model for N epochs\n",
    "We call our training and testing functions in a loop, while keeping track of the losses and accuracy. "
   ]
  },
  {
   "cell_type": "code",
   "execution_count": 27,
   "metadata": {
    "id": "cjbgMQIFdNye",
    "scrolled": true
   },
   "outputs": [
    {
     "name": "stdout",
     "output_type": "stream",
     "text": [
      "Training Loss:  0.0 Time:  75.84152889251709 s\n",
      "Testing Loss:  1.8634493719637395\n",
      "Testing Accuracy:  69.71000000000001 %\n",
      "====================\n",
      "Training Loss:  0.0 Time:  73.66168093681335 s\n",
      "Testing Loss:  0.6017704081712756\n",
      "Testing Accuracy:  85.39999999999999 %\n",
      "====================\n",
      "Training Loss:  0.0 Time:  73.92763423919678 s\n",
      "Testing Loss:  0.40000363634203456\n",
      "Testing Accuracy:  88.69 %\n",
      "====================\n",
      "Training Loss:  0.0 Time:  72.94288635253906 s\n",
      "Testing Loss:  0.34426975989272185\n",
      "Testing Accuracy:  89.94 %\n",
      "====================\n",
      "Training Loss:  0.0 Time:  72.81505012512207 s\n",
      "Testing Loss:  0.30026563947604257\n",
      "Testing Accuracy:  91.34 %\n",
      "====================\n",
      "Training Loss:  0.0 Time:  72.93311047554016 s\n",
      "Testing Loss:  0.2707764547317902\n",
      "Testing Accuracy:  92.17 %\n",
      "====================\n",
      "Training Loss:  0.0 Time:  73.13360691070557 s\n",
      "Testing Loss:  0.24821601929133685\n",
      "Testing Accuracy:  92.91 %\n",
      "====================\n",
      "Training Loss:  0.0 Time:  73.312992811203 s\n",
      "Testing Loss:  0.22732430675196438\n",
      "Testing Accuracy:  93.54 %\n",
      "====================\n",
      "Training Loss:  0.0 Time:  73.72670936584473 s\n",
      "Testing Loss:  0.21479276808914488\n",
      "Testing Accuracy:  93.78 %\n",
      "====================\n",
      "Training Loss:  0.0 Time:  77.66104698181152 s\n",
      "Testing Loss:  0.20295890979226655\n",
      "Testing Accuracy:  94.04 %\n",
      "====================\n",
      "Training Loss:  0.0 Time:  76.02829551696777 s\n",
      "Testing Loss:  0.1857977790142599\n",
      "Testing Accuracy:  94.66 %\n",
      "====================\n",
      "Training Loss:  0.0 Time:  73.38966345787048 s\n",
      "Testing Loss:  0.17543275035202308\n",
      "Testing Accuracy:  94.94 %\n",
      "====================\n",
      "Training Loss:  0.0 Time:  72.96430993080139 s\n",
      "Testing Loss:  0.16378972878454537\n",
      "Testing Accuracy:  95.25 %\n",
      "====================\n",
      "Training Loss:  0.0 Time:  74.16185283660889 s\n",
      "Testing Loss:  0.15447561542289867\n",
      "Testing Accuracy:  95.6 %\n",
      "====================\n",
      "Training Loss:  0.0 Time:  72.95417857170105 s\n",
      "Testing Loss:  0.14590874330135933\n",
      "Testing Accuracy:  95.89 %\n",
      "====================\n",
      "Training Loss:  0.0 Time:  78.66052031517029 s\n",
      "Testing Loss:  0.14098633754978504\n",
      "Testing Accuracy:  96.0 %\n",
      "====================\n",
      "Training Loss:  0.0 Time:  94.55496764183044 s\n",
      "Testing Loss:  0.13611507145991877\n",
      "Testing Accuracy:  96.1 %\n",
      "====================\n",
      "Training Loss:  0.0 Time:  81.75707650184631 s\n",
      "Testing Loss:  0.12920881381604798\n",
      "Testing Accuracy:  96.31 %\n",
      "====================\n",
      "Training Loss:  0.0 Time:  73.67536282539368 s\n",
      "Testing Loss:  0.12420239537045108\n",
      "Testing Accuracy:  96.55 %\n",
      "====================\n",
      "Training Loss:  0.0 Time:  73.16210007667542 s\n",
      "Testing Loss:  0.11933838494458514\n",
      "Testing Accuracy:  96.61999999999999 %\n",
      "====================\n",
      "Training Loss:  0.0 Time:  73.69668745994568 s\n",
      "Testing Loss:  0.11285946852274863\n",
      "Testing Accuracy:  96.8 %\n",
      "====================\n",
      "Training Loss:  0.0 Time:  73.3821337223053 s\n",
      "Testing Loss:  0.11026390896096278\n",
      "Testing Accuracy:  96.85000000000001 %\n",
      "====================\n",
      "Training Loss:  0.0 Time:  73.4705958366394 s\n",
      "Testing Loss:  0.10621457166452579\n",
      "Testing Accuracy:  96.98 %\n",
      "====================\n",
      "Training Loss:  0.0 Time:  73.55729699134827 s\n",
      "Testing Loss:  0.10223626348228239\n",
      "Testing Accuracy:  97.2 %\n",
      "====================\n",
      "Training Loss:  0.0 Time:  72.88747382164001 s\n",
      "Testing Loss:  0.10061631813312354\n",
      "Testing Accuracy:  97.1 %\n",
      "====================\n",
      "Training Loss:  0.0 Time:  75.55743551254272 s\n",
      "Testing Loss:  0.09652133758387052\n",
      "Testing Accuracy:  97.15 %\n",
      "====================\n",
      "Training Loss:  0.0 Time:  86.44712424278259 s\n",
      "Testing Loss:  0.09383545267870899\n",
      "Testing Accuracy:  97.21 %\n",
      "====================\n",
      "Training Loss:  0.0 Time:  93.2574393749237 s\n",
      "Testing Loss:  0.09183841332417922\n",
      "Testing Accuracy:  97.28 %\n",
      "====================\n",
      "Training Loss:  0.0 Time:  70.91406893730164 s\n",
      "Testing Loss:  0.08939462459339599\n",
      "Testing Accuracy:  97.37 %\n",
      "====================\n",
      "Training Loss:  0.0 Time:  71.05934643745422 s\n",
      "Testing Loss:  0.08553256283144639\n",
      "Testing Accuracy:  97.42 %\n",
      "====================\n",
      "Training Loss:  0.0 Time:  71.10360145568848 s\n",
      "Testing Loss:  0.0849283954501173\n",
      "Testing Accuracy:  97.59 %\n",
      "====================\n",
      "Training Loss:  0.0 Time:  71.18032884597778 s\n",
      "Testing Loss:  0.08361252666117182\n",
      "Testing Accuracy:  97.66 %\n",
      "====================\n",
      "Training Loss:  0.0 Time:  70.92507648468018 s\n",
      "Testing Loss:  0.08182074394456788\n",
      "Testing Accuracy:  97.50999999999999 %\n",
      "====================\n",
      "Training Loss:  0.0 Time:  70.89395594596863 s\n",
      "Testing Loss:  0.07996505828248886\n",
      "Testing Accuracy:  97.68 %\n",
      "====================\n",
      "Training Loss:  0.0 Time:  71.29141664505005 s\n",
      "Testing Loss:  0.07764674325079526\n",
      "Testing Accuracy:  97.78 %\n",
      "====================\n",
      "Training Loss:  0.0 Time:  71.01714873313904 s\n",
      "Testing Loss:  0.07494259550403078\n",
      "Testing Accuracy:  97.74000000000001 %\n",
      "====================\n",
      "Training Loss:  0.0 Time:  82.833660364151 s\n",
      "Testing Loss:  0.07358507402369985\n",
      "Testing Accuracy:  97.89 %\n",
      "====================\n",
      "Training Loss:  0.0 Time:  93.02868938446045 s\n",
      "Testing Loss:  0.07313944117805926\n",
      "Testing Accuracy:  98.00999999999999 %\n",
      "====================\n",
      "Training Loss:  0.0 Time:  75.58852744102478 s\n",
      "Testing Loss:  0.07148985703023387\n",
      "Testing Accuracy:  97.97 %\n",
      "====================\n",
      "Training Loss:  0.0 Time:  71.05325174331665 s\n",
      "Testing Loss:  0.0702944843418356\n",
      "Testing Accuracy:  98.03 %\n",
      "====================\n",
      "Training Loss:  0.0 Time:  53.94330716133118 s\n",
      "Testing Loss:  2.2830419400930406\n",
      "Testing Accuracy:  12.1 %\n",
      "--------------------\n",
      "Training Loss:  0.0 Time:  54.32365918159485 s\n",
      "Testing Loss:  2.246568818950653\n",
      "Testing Accuracy:  16.61 %\n",
      "--------------------\n",
      "Training Loss:  0.0 Time:  53.7929105758667 s\n",
      "Testing Loss:  2.162975031387806\n",
      "Testing Accuracy:  23.96 %\n",
      "--------------------\n",
      "Training Loss:  0.0 Time:  53.766059160232544 s\n",
      "Testing Loss:  2.055808842498064\n",
      "Testing Accuracy:  26.119999999999997 %\n",
      "--------------------\n",
      "Training Loss:  0.0 Time:  53.669893741607666 s\n",
      "Testing Loss:  1.9966501922905444\n",
      "Testing Accuracy:  28.63 %\n",
      "--------------------\n",
      "Training Loss:  0.0 Time:  53.81420874595642 s\n",
      "Testing Loss:  1.9669648808896543\n",
      "Testing Accuracy:  30.42 %\n",
      "--------------------\n",
      "Training Loss:  0.0 Time:  53.82708191871643 s\n",
      "Testing Loss:  1.9448597905933858\n",
      "Testing Accuracy:  31.290000000000003 %\n",
      "--------------------\n",
      "Training Loss:  0.0 Time:  53.72993516921997 s\n",
      "Testing Loss:  1.9195429377317428\n",
      "Testing Accuracy:  32.05 %\n",
      "--------------------\n",
      "Training Loss:  0.0 Time:  53.7379412651062 s\n",
      "Testing Loss:  1.8903015480339527\n",
      "Testing Accuracy:  33.98 %\n",
      "--------------------\n",
      "Training Loss:  0.0 Time:  53.77305364608765 s\n",
      "Testing Loss:  1.8674009728223084\n",
      "Testing Accuracy:  35.17 %\n",
      "--------------------\n",
      "Training Loss:  0.0 Time:  53.80299496650696 s\n",
      "Testing Loss:  1.83509493175596\n",
      "Testing Accuracy:  36.24 %\n",
      "--------------------\n",
      "Training Loss:  0.0 Time:  53.856024503707886 s\n",
      "Testing Loss:  1.8113302383586765\n",
      "Testing Accuracy:  36.95 %\n",
      "--------------------\n",
      "Training Loss:  0.0 Time:  53.767961740493774 s\n",
      "Testing Loss:  1.7851691415697337\n",
      "Testing Accuracy:  38.29 %\n",
      "--------------------\n",
      "Training Loss:  0.0 Time:  53.70992565155029 s\n",
      "Testing Loss:  1.7609868756204843\n",
      "Testing Accuracy:  39.17 %\n",
      "--------------------\n",
      "Training Loss:  0.0 Time:  53.69350552558899 s\n",
      "Testing Loss:  1.735169815608859\n",
      "Testing Accuracy:  39.5 %\n",
      "--------------------\n",
      "Training Loss:  0.0 Time:  53.642943143844604 s\n",
      "Testing Loss:  1.7135278076790272\n",
      "Testing Accuracy:  40.589999999999996 %\n",
      "--------------------\n",
      "Training Loss:  0.0 Time:  65.7192735671997 s\n",
      "Testing Loss:  1.6885906734466554\n",
      "Testing Accuracy:  41.089999999999996 %\n",
      "--------------------\n",
      "Training Loss:  0.0 Time:  69.83730912208557 s\n",
      "Testing Loss:  1.6714937793657183\n",
      "Testing Accuracy:  41.75 %\n",
      "--------------------\n",
      "Training Loss:  0.0 Time:  57.62669134140015 s\n",
      "Testing Loss:  1.6478991510465741\n",
      "Testing Accuracy:  42.89 %\n",
      "--------------------\n",
      "Training Loss:  0.0 Time:  53.97610831260681 s\n",
      "Testing Loss:  1.6359206934541464\n",
      "Testing Accuracy:  42.07 %\n",
      "--------------------\n",
      "Training Loss:  0.0 Time:  53.64181423187256 s\n",
      "Testing Loss:  1.6130103262018411\n",
      "Testing Accuracy:  43.34 %\n",
      "--------------------\n",
      "Training Loss:  0.0 Time:  53.69399166107178 s\n",
      "Testing Loss:  1.6023736617513\n",
      "Testing Accuracy:  43.09 %\n",
      "--------------------\n",
      "Training Loss:  0.0 Time:  53.714975118637085 s\n"
     ]
    },
    {
     "name": "stdout",
     "output_type": "stream",
     "text": [
      "Testing Loss:  1.5837869492175058\n",
      "Testing Accuracy:  44.07 %\n",
      "--------------------\n",
      "Training Loss:  0.0 Time:  53.83308291435242 s\n",
      "Testing Loss:  1.5667022596705704\n",
      "Testing Accuracy:  45.050000000000004 %\n",
      "--------------------\n",
      "Training Loss:  0.0 Time:  53.713005781173706 s\n",
      "Testing Loss:  1.5789252539422363\n",
      "Testing Accuracy:  44.49 %\n",
      "--------------------\n",
      "Training Loss:  0.0 Time:  54.26631474494934 s\n",
      "Testing Loss:  1.5487974836174399\n",
      "Testing Accuracy:  45.21 %\n",
      "--------------------\n",
      "Training Loss:  0.0 Time:  53.66989207267761 s\n",
      "Testing Loss:  1.522447308564931\n",
      "Testing Accuracy:  46.33 %\n",
      "--------------------\n",
      "Training Loss:  0.0 Time:  53.80486536026001 s\n",
      "Testing Loss:  1.5201728520071134\n",
      "Testing Accuracy:  46.28 %\n",
      "--------------------\n",
      "Training Loss:  0.0 Time:  53.75895667076111 s\n",
      "Testing Loss:  1.5331328783173115\n",
      "Testing Accuracy:  45.46 %\n",
      "--------------------\n",
      "Training Loss:  0.0 Time:  54.035083532333374 s\n",
      "Testing Loss:  1.5172969839636237\n",
      "Testing Accuracy:  45.72 %\n",
      "--------------------\n",
      "Training Loss:  0.0 Time:  53.783287048339844 s\n",
      "Testing Loss:  1.493392474197969\n",
      "Testing Accuracy:  47.36 %\n",
      "--------------------\n",
      "Training Loss:  0.0 Time:  53.870033740997314 s\n",
      "Testing Loss:  1.5119622679325753\n",
      "Testing Accuracy:  46.339999999999996 %\n",
      "--------------------\n",
      "Training Loss:  0.0 Time:  53.726943492889404 s\n",
      "Testing Loss:  1.5114716520966962\n",
      "Testing Accuracy:  46.87 %\n",
      "--------------------\n",
      "Training Loss:  0.0 Time:  53.71247601509094 s\n",
      "Testing Loss:  1.5123555888104252\n",
      "Testing Accuracy:  46.800000000000004 %\n",
      "--------------------\n",
      "Training Loss:  0.0 Time:  53.84663271903992 s\n",
      "Testing Loss:  1.467022375030443\n",
      "Testing Accuracy:  48.089999999999996 %\n",
      "--------------------\n",
      "Training Loss:  0.0 Time:  53.679020404815674 s\n",
      "Testing Loss:  1.4738605346565135\n",
      "Testing Accuracy:  47.370000000000005 %\n",
      "--------------------\n",
      "Training Loss:  0.0 Time:  53.65796613693237 s\n",
      "Testing Loss:  1.4729551746099256\n",
      "Testing Accuracy:  47.54 %\n",
      "--------------------\n",
      "Training Loss:  0.0 Time:  53.65188026428223 s\n",
      "Testing Loss:  1.4647021709531545\n",
      "Testing Accuracy:  47.339999999999996 %\n",
      "--------------------\n",
      "Training Loss:  0.0 Time:  54.049169063568115 s\n",
      "Testing Loss:  1.5119974216688425\n",
      "Testing Accuracy:  45.87 %\n",
      "--------------------\n",
      "Training Loss:  0.0 Time:  53.703067779541016 s\n",
      "Testing Loss:  1.4404283253542147\n",
      "Testing Accuracy:  49.04 %\n",
      "--------------------\n"
     ]
    }
   ],
   "source": [
    "n_epochs = 40\n",
    "\n",
    "model = MyCNN_Model(); model.to(device)\n",
    "for i in range(n_epochs):\n",
    "    train_loss, model = train_epoch(model, train_MNIST_loader, criterion)\n",
    "    test_loss, MNIST_test_acc = test_model(model, test_MNIST_loader, criterion)\n",
    "    print('='*20)\n",
    "\n",
    "model = MyCNN_Model(); model.to(device)\n",
    "for i in range(n_epochs):\n",
    "    train_loss, model = train_epoch(model, train_CIFAR10_loader, criterion)\n",
    "    test_loss, CIFAR10_test_acc = test_model(model, test_CIFAR10_loader, criterion)\n",
    "    print('-'*20)"
   ]
  },
  {
   "cell_type": "code",
   "execution_count": null,
   "metadata": {},
   "outputs": [],
   "source": []
  }
 ],
 "metadata": {
  "colab": {
   "collapsed_sections": [],
   "name": "CNN_Gradient_Check.ipynb",
   "provenance": []
  },
  "kernelspec": {
   "display_name": "Python 3",
   "language": "python",
   "name": "python3"
  },
  "language_info": {
   "codemirror_mode": {
    "name": "ipython",
    "version": 3
   },
   "file_extension": ".py",
   "mimetype": "text/x-python",
   "name": "python",
   "nbconvert_exporter": "python",
   "pygments_lexer": "ipython3",
   "version": "3.7.5"
  }
 },
 "nbformat": 4,
 "nbformat_minor": 1
}
