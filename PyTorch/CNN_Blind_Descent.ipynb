{
 "cells": [
  {
   "cell_type": "markdown",
   "metadata": {
    "id": "UgEc9RYwdNyS"
   },
   "source": [
    "## Import all the necesary libraries"
   ]
  },
  {
   "cell_type": "markdown",
   "metadata": {
    "id": "UcVJ89lWfBqk"
   },
   "source": [
    "Source: https://github.com/akshat57/Blind-Descent/blob/main/Blind_Descent-1-CNN.ipynb"
   ]
  },
  {
   "cell_type": "code",
   "execution_count": null,
   "metadata": {
    "colab": {
     "background_save": true
    },
    "id": "T5oQ47tOdNyU"
   },
   "outputs": [],
   "source": [
    "import numpy as np\n",
    "import torch\n",
    "import sys\n",
    "import torch.nn as nn\n",
    "import torch.nn.functional as F\n",
    "import torch.optim as optim\n",
    "\n",
    "from torch.utils import data\n",
    "from torchvision import transforms\n",
    "from torchvision.datasets import MNIST\n",
    "from torchvision.datasets import CIFAR10\n",
    "\n",
    "import matplotlib.pyplot as plt\n",
    "import time\n",
    "\n",
    "from sklearn.metrics import confusion_matrix, classification_report\n",
    "\n",
    "cuda = torch.cuda.is_available()\n",
    "cuda = False"
   ]
  },
  {
   "cell_type": "markdown",
   "metadata": {
    "id": "F2ZlVqRvdNyV"
   },
   "source": [
    "## Download the MNIST and CIFAR10 datasets"
   ]
  },
  {
   "cell_type": "code",
   "execution_count": null,
   "metadata": {
    "id": "snx5udk9dNyW"
   },
   "outputs": [],
   "source": [
    "train = MNIST('./MNIST_data', train=True, download=True, transform=transforms.ToTensor())\n",
    "test = MNIST('./MNIST_data', train=False, download=True, transform=transforms.ToTensor())\n",
    "train_MNIST_data = train.data; train_MNIST_labels = train.targets\n",
    "test_MNIST_data = test.data; test_MNIST_labels = test.targets\n",
    "\n",
    "train = CIFAR10('./CIFAR10_data', train=True, download=True, transform=transforms.ToTensor())\n",
    "test = CIFAR10('./CIFAR10_data', train=False, download=True, transform=transforms.ToTensor())\n",
    "train_CIFAR10_data = train.data; train_CIFAR10_labels = train.targets\n",
    "test_CIFAR10_data = test.data; test_CIFAR10_labels = test.targets"
   ]
  },
  {
   "cell_type": "markdown",
   "metadata": {
    "id": "g3JjIF9UdNyW"
   },
   "source": [
    "## Dataloader"
   ]
  },
  {
   "cell_type": "code",
   "execution_count": null,
   "metadata": {
    "id": "2P-GNkhPdNyX"
   },
   "outputs": [],
   "source": [
    "class MyDataset(data.Dataset):\n",
    "    def __init__(self, X, Y):\n",
    "        self.X = X\n",
    "        self.Y = Y\n",
    "\n",
    "    def __len__(self):\n",
    "        return len(self.Y)\n",
    "\n",
    "    def __getitem__(self,index):\n",
    "        X = np.transpose(self.X[index], (2, 0, 1))\n",
    "        X = X.astype(float)\n",
    "        Y = self.Y[index]\n",
    "        return X,Y"
   ]
  },
  {
   "cell_type": "markdown",
   "metadata": {
    "id": "fiFk7X_edNyZ"
   },
   "source": [
    "Using the torch.utils.data DataLoader, we shuffle the data and set the batch size"
   ]
  },
  {
   "cell_type": "code",
   "execution_count": null,
   "metadata": {
    "id": "R-RXL-JJdNyZ"
   },
   "outputs": [],
   "source": [
    "num_workers = 8 if cuda else 0 \n",
    "batch_size = 64\n",
    "    \n",
    "# MNIST Training\n",
    "train_dataset = MyDataset(train_MNIST_data, train_MNIST_labels)\n",
    "\n",
    "train_loader_args = dict(shuffle=True, batch_size=batch_size, num_workers=num_workers, pin_memory=True) if cuda\\\n",
    "                    else dict(shuffle=True, batch_size=batch_size)\n",
    "train_MNIST_loader = data.DataLoader(train_dataset, **train_loader_args)\n",
    "\n",
    "# MNIST Testing\n",
    "test_dataset = MyDataset(test_MNIST_data, test_MNIST_labels)\n",
    "\n",
    "test_loader_args = dict(shuffle=False, batch_size=batch_size, num_workers=num_workers, pin_memory=True) if cuda\\\n",
    "                    else dict(shuffle=False, batch_size=1)\n",
    "test_MNIST_loader = data.DataLoader(test_dataset, **test_loader_args)\n",
    "\n",
    "# CIFAR10 Training\n",
    "train_dataset = MyDataset(train_CIFAR10_data, train_CIFAR10_labels)\n",
    "\n",
    "train_loader_args = dict(shuffle=True, batch_size=batch_size, num_workers=num_workers, pin_memory=True) if cuda\\\n",
    "                    else dict(shuffle=True, batch_size=batch_size)\n",
    "train_CIFAR10_loader = data.DataLoader(train_dataset, **train_loader_args)\n",
    "\n",
    "# CIFAR10 Testing\n",
    "test_dataset = MyDataset(test_CIFAR10_data, test_CIFAR10_labels)\n",
    "\n",
    "test_loader_args = dict(shuffle=False, batch_size=batch_size, num_workers=num_workers, pin_memory=True) if cuda\\\n",
    "                    else dict(shuffle=False, batch_size=1)\n",
    "test_CIFAR10_loader = data.DataLoader(test_dataset, **test_loader_args)"
   ]
  },
  {
   "cell_type": "markdown",
   "metadata": {
    "id": "Tlhg9dfadNyZ"
   },
   "source": [
    "## Define our Neural Network Model \n",
    "We define our model using the torch.nn.Module class"
   ]
  },
  {
   "cell_type": "code",
   "execution_count": null,
   "metadata": {
    "id": "1rWxDIX7dNyZ"
   },
   "outputs": [],
   "source": [
    "class MyCNN_Model(nn.Module):\n",
    "    def __init__(self):\n",
    "        super(MyCNN_Model, self).__init__()\n",
    "        self.conv1 = nn.Conv2d(3, 32, kernel_size = 5)\n",
    "        self.pool1 = nn.MaxPool2d(kernel_size = 2)\n",
    "        self.conv2 = nn.Conv2d(32, 32, kernel_size = 5)\n",
    "        self.pool2 = nn.MaxPool2d(kernel_size = 2)\n",
    "        self.conv3 = nn.Conv2d(32, 10, kernel_size = 5)\n",
    "        \n",
    "    def forward(self, x):\n",
    "        x = self.conv1(x)\n",
    "        x = self.pool1(x)\n",
    "        x = F.relu(self.conv2(x))\n",
    "        x = self.pool2(x)\n",
    "        x = self.conv3(x)\n",
    "        x = x.view(-1, 10)\n",
    "        \n",
    "        return x"
   ]
  },
  {
   "cell_type": "markdown",
   "metadata": {
    "id": "NVzzuB_IdNya"
   },
   "source": [
    "## Create the model and define the Loss and Optimizer"
   ]
  },
  {
   "cell_type": "code",
   "execution_count": null,
   "metadata": {
    "id": "SgGr79Z6dNyc"
   },
   "outputs": [],
   "source": [
    "criterion = nn.CrossEntropyLoss()\n",
    "device = torch.device(\"cuda\" if cuda else \"cpu\")\n",
    "model = MyCNN_Model()\n",
    "model.to(device)\n",
    "print(model)"
   ]
  },
  {
   "cell_type": "code",
   "execution_count": null,
   "metadata": {
    "id": "ZvSgNLHxTItm"
   },
   "outputs": [],
   "source": [
    "def zeroMeanUnitUniform(model_new, model, lr):\n",
    "    model_new.conv1.weight = nn.Parameter(torch.from_numpy(np.random.uniform(-1, 1)).float())\n",
    "    model_new.conv2.weight = nn.Parameter(torch.from_numpy(np.random.uniform(-1, 1)).float())\n",
    "    model_new.conv3.weight = nn.Parameter(torch.from_numpy(np.random.uniform(-1, 1)).float())\n",
    "    return model_new\n",
    "    \n",
    "def uniform(model_new, model, lr):\n",
    "    conv1weight = model.conv1.weight.detach().cpu().numpy()\n",
    "    conv2weight = model.conv2.weight.detach().cpu().numpy()\n",
    "    conv3weight = model.conv3.weight.detach().cpu().numpy()\n",
    "    model_new.conv1.weight = nn.Parameter(torch.from_numpy(np.random.uniform(conv1weight - lr, conv1weight + lr)).float())\n",
    "    model_new.conv2.weight = nn.Parameter(torch.from_numpy(np.random.uniform(conv2weight - lr, conv2weight + lr)).float())\n",
    "    model_new.conv3.weight = nn.Parameter(torch.from_numpy(np.random.uniform(conv3weight - lr, conv3weight + lr)).float())\n",
    "    return model_new\n",
    "    \n",
    "def normal(model_new, model, lr):\n",
    "    model_new.conv1.weight = nn.Parameter(torch.from_numpy(np.random.normal(model.conv1.weight.detach().cpu().numpy(), scale = lr)).float())\n",
    "    model_new.conv2.weight = nn.Parameter(torch.from_numpy(np.random.normal(model.conv2.weight.detach().cpu().numpy(), scale = lr)).float())\n",
    "    model_new.conv3.weight = nn.Parameter(torch.from_numpy(np.random.normal(model.conv3.weight.detach().cpu().numpy(), scale = lr)).float())\n",
    "    return model_new\n",
    "\n",
    "def randomDistribution(function, model_new, model, lr):\n",
    "    return function(model_new, model, lr)"
   ]
  },
  {
   "cell_type": "code",
   "execution_count": null,
   "metadata": {
    "id": "F5gYYVQidNyc"
   },
   "outputs": [],
   "source": [
    "def train_epoch(model, train_loader, criterion, epoch, lr, function):\n",
    "    model.train()\n",
    "\n",
    "    running_loss = 0.0\n",
    "    predictions = []\n",
    "    ground_truth = []\n",
    "    loss_counter = 0\n",
    "    loss_den = 0\n",
    "    \n",
    "    start_time = time.time()\n",
    "    for batch_idx, (data, target) in enumerate(train_loader):   \n",
    "            data = data.to(device)\n",
    "            target = target.to(device)\n",
    "        \n",
    "            #previous model\n",
    "            outputs = model(data.float())\n",
    "            _, predicted = torch.max(outputs.data, 1)\n",
    "            total_predictions = target.size(0)\n",
    "            correct_predictions = (predicted == target).sum().item()\n",
    "            acc = (correct_predictions/total_predictions)*100.0\n",
    "            \n",
    "            loss = criterion(outputs, target)\n",
    "            \n",
    "            #new model\n",
    "            model_new = MyCNN_Model()\n",
    "            model_new = randomDistribution(function, model_new, model, lr)\n",
    "            model_new.to(device)\n",
    "            \n",
    "            outputs = model_new(data.float())\n",
    "            _, predicted = torch.max(outputs.data, 1)\n",
    "            total_predictions = target.size(0)\n",
    "            correct_predictions = (predicted == target).sum().item()\n",
    "            acc_new = (correct_predictions/total_predictions)*100.0\n",
    "            \n",
    "            loss_new = criterion(outputs, target)\n",
    "        \n",
    "            if loss_new.item() < loss.item():\n",
    "                loss_den += 1\n",
    "                loss_counter = loss_new.item()\n",
    "                running_loss += loss_new.item()\n",
    "                model = model_new\n",
    "                #calculuating confusion matrix\n",
    "                predictions += list(predicted.detach().cpu().numpy())\n",
    "                ground_truth += list(target.detach().cpu().numpy())\n",
    "        \n",
    "        \n",
    "    \n",
    "    end_time = time.time()\n",
    "    running_loss /= loss_den\n",
    "    print('Training Loss: ', running_loss, 'Time: ',end_time - start_time, 's')\n",
    "    \n",
    "    return running_loss, model"
   ]
  },
  {
   "cell_type": "markdown",
   "metadata": {
    "id": "e5bSz-zcdNyd"
   },
   "source": [
    "## Create a function that will evaluate our network's performance on the test set"
   ]
  },
  {
   "cell_type": "code",
   "execution_count": null,
   "metadata": {
    "id": "rAhuZ7uMdNyd"
   },
   "outputs": [],
   "source": [
    "def test_model(model, test_loader, criterion):\n",
    "    with torch.no_grad():\n",
    "        model.eval()\n",
    "\n",
    "        running_loss = 0.0\n",
    "        total_predictions = 0.0\n",
    "        correct_predictions = 0.0\n",
    "        \n",
    "        predictions = []\n",
    "        ground_truth = []\n",
    "\n",
    "        for batch_idx, (data, target) in enumerate(test_loader):   \n",
    "            data = data.to(device)\n",
    "            target = target.to(device)\n",
    "\n",
    "            outputs = model(data.float())\n",
    "\n",
    "            _, predicted = torch.max(outputs.data, 1)\n",
    "            total_predictions += target.size(0)\n",
    "            correct_predictions += (predicted == target).sum().item()\n",
    "\n",
    "            loss = criterion(outputs, target).detach()\n",
    "            running_loss += loss.item()\n",
    "            \n",
    "            #calculuating confusion matrix\n",
    "            predictions += list(predicted.detach().cpu().numpy())\n",
    "            ground_truth += list(target.detach().cpu().numpy())\n",
    "    \n",
    "\n",
    "    \n",
    "        #write_confusion_matrix('Testing', ground_truth, predictions)\n",
    "        running_loss /= len(test_loader)\n",
    "        acc = (correct_predictions/total_predictions)*100.0\n",
    "        print('Testing Loss: ', running_loss)\n",
    "        print('Testing Accuracy: ', acc, '%')\n",
    "        return running_loss, acc\n"
   ]
  },
  {
   "cell_type": "markdown",
   "metadata": {
    "id": "sF9evUwmdNye"
   },
   "source": [
    "## Train the model for N epochs\n",
    "We call our training and testing functions in a loop, while keeping track of the losses and accuracy. "
   ]
  },
  {
   "cell_type": "code",
   "execution_count": null,
   "metadata": {
    "id": "cjbgMQIFdNye",
    "scrolled": true
   },
   "outputs": [],
   "source": [
    "n_epochs = 40\n",
    "lr = 0.001\n",
    "\n",
    "\"\"\"\n",
    "model = MyCNN_Model(); model.to(device)\n",
    "for i in range(n_epochs):\n",
    "    train_loss, model = train_epoch(model, train_CIFAR10_loader, criterion, i, lr, zeroMeanUnitUniform)\n",
    "    test_loss, CIFAR10_test_acc_zeroMeanUnitUniform = test_model(model, test_CIFAR10_loader, criterion)\n",
    "    print('='*20)\n",
    "    \n",
    "model = MyCNN_Model(); model.to(device)\n",
    "for i in range(n_epochs):\n",
    "    train_loss, model = train_epoch(model, train_CIFAR10_loader, criterion, i, lr, uniform)\n",
    "    test_loss, CIFAR10_test_acc_uniform = test_model(model, test_CIFAR10_loader, criterion)\n",
    "    print('='*20)\n",
    "\"\"\"\n",
    "\n",
    "model = MyCNN_Model(); model.to(device)\n",
    "for i in range(n_epochs):\n",
    "    train_loss, model = train_epoch(model, train_CIFAR10_loader, criterion, i, lr, normal)\n",
    "    test_loss, CIFAR10_test_acc_normal = test_model(model, test_CIFAR10_loader, criterion)\n",
    "    print('='*20)\n",
    "\n",
    "print(\"CIFAR10_test_acc_zeroMeanUnitUniform\", CIFAR10_test_acc_zeroMeanUnitUniform)\n",
    "print(\"CIFAR10_test_acc_uniform\", CIFAR10_test_acc_uniform)\n",
    "print(\"CIFAR10_test_acc_normal\", CIFAR10_test_acc_normal)"
   ]
  }
 ],
 "metadata": {
  "colab": {
   "collapsed_sections": [],
   "name": "CNN_Blind_Descent.ipynb",
   "provenance": []
  },
  "kernelspec": {
   "display_name": "Python 3",
   "language": "python",
   "name": "python3"
  },
  "language_info": {
   "codemirror_mode": {
    "name": "ipython",
    "version": 3
   },
   "file_extension": ".py",
   "mimetype": "text/x-python",
   "name": "python",
   "nbconvert_exporter": "python",
   "pygments_lexer": "ipython3",
   "version": "3.7.5"
  }
 },
 "nbformat": 4,
 "nbformat_minor": 1
}
